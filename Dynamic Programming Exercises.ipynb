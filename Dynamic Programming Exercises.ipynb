{
 "cells": [
  {
   "cell_type": "markdown",
   "id": "serial-making",
   "metadata": {},
   "source": [
    "# 1) Fibonacci Numbers"
   ]
  },
  {
   "cell_type": "code",
   "execution_count": 1,
   "id": "injured-fusion",
   "metadata": {},
   "outputs": [],
   "source": [
    "def run_tests():\n",
    "    print(fib(1))  # 1\n",
    "    print(fib(2))  # 1\n",
    "    print(fib(3))  # 2\n",
    "    print(fib(4))  # 3\n",
    "    print(fib(5))  # 5\n",
    "    print(fib(40)) # 102334155"
   ]
  },
  {
   "cell_type": "code",
   "execution_count": 2,
   "id": "commercial-punishment",
   "metadata": {},
   "outputs": [],
   "source": [
    "# basic\n",
    "def fib(n):\n",
    "    return fib(n - 1) + fib(n - 2)"
   ]
  },
  {
   "cell_type": "code",
   "execution_count": 3,
   "id": "hybrid-sauce",
   "metadata": {},
   "outputs": [],
   "source": [
    "# more efficient (memoization)\n",
    "def fib(n, memo = {}):\n",
    "    if n in memo: \n",
    "        return memo[n]\n",
    "    \n",
    "    if (n <= 2): return 1\n",
    "    \n",
    "    memo[n] = fib(n - 1, memo) + fib(n - 2, memo)\n",
    "    return memo[n]"
   ]
  },
  {
   "cell_type": "code",
   "execution_count": 4,
   "id": "asian-karen",
   "metadata": {},
   "outputs": [],
   "source": [
    "# also more efficient (tabulation A)\n",
    "def fib(n):\n",
    "    table = [0] * (n + 2)  # create the table structure at start...\n",
    "    # ... and update the values:\n",
    "    table[1] = 1\n",
    "    for i in range(n):\n",
    "        table[i + 1] += table[i]\n",
    "        table[i + 2] += table[i]\n",
    "    \n",
    "    return table[n]"
   ]
  },
  {
   "cell_type": "code",
   "execution_count": 5,
   "id": "precise-judge",
   "metadata": {},
   "outputs": [],
   "source": [
    "# also more efficient (tabulation B)\n",
    "def fib(n):\n",
    "    table = [0, 1]  # only start with the first table values...\n",
    "    # ... and append the other values:\n",
    "    for i in range(n - 1):\n",
    "        table.append(table[i] + table[i + 1])\n",
    "    \n",
    "    return table[n]"
   ]
  },
  {
   "cell_type": "code",
   "execution_count": 6,
   "id": "checked-apparatus",
   "metadata": {},
   "outputs": [
    {
     "name": "stdout",
     "output_type": "stream",
     "text": [
      "1\n",
      "1\n",
      "2\n",
      "3\n",
      "5\n",
      "102334155\n"
     ]
    }
   ],
   "source": [
    "run_tests()"
   ]
  },
  {
   "cell_type": "markdown",
   "id": "anticipated-kinase",
   "metadata": {},
   "source": [
    "# 2) Grid Traveller\n",
    "You are a traveller on a 2D grid. You start in the top left corner, and your goal is in the bottom right corner. You can only go right or down.\n",
    "\n",
    "In how many ways can you travel to the goal on a m*n grid?"
   ]
  },
  {
   "cell_type": "code",
   "execution_count": 7,
   "id": "pretty-sport",
   "metadata": {},
   "outputs": [],
   "source": [
    "def run_tests():\n",
    "    print(grid_traveller(0, 1))  # 0\n",
    "    print(grid_traveller(2, 1))  # 1\n",
    "    print(grid_traveller(2, 2))  # 2\n",
    "    print(grid_traveller(2, 3))  # 3\n",
    "    print(grid_traveller(3, 2))  # 3\n",
    "    print(grid_traveller(15, 15))  # 40116600"
   ]
  },
  {
   "cell_type": "code",
   "execution_count": 8,
   "id": "fiscal-wallace",
   "metadata": {},
   "outputs": [],
   "source": [
    "def grid_traveller(m, n):\n",
    "    if m == 0 or n == 0: return 0\n",
    "    if m == 1 and n == 1: return 1  # bottom right corner\n",
    "    return grid_traveller(m - 1, n) + grid_traveller(m, n - 1)"
   ]
  },
  {
   "cell_type": "code",
   "execution_count": 9,
   "id": "stopped-cooling",
   "metadata": {},
   "outputs": [],
   "source": [
    "def grid_traveller(m, n, memo={}):\n",
    "    k = f'{m},{n}'\n",
    "    if k in memo: return memo[k]\n",
    "    \n",
    "    if m == 0 or n == 0: return 0\n",
    "    if m == 1 and n == 1: return 1\n",
    "    \n",
    "    memo[k] = grid_traveller(m - 1, n) + grid_traveller(m, n - 1)\n",
    "    return memo[k]"
   ]
  },
  {
   "cell_type": "code",
   "execution_count": 10,
   "id": "modern-london",
   "metadata": {},
   "outputs": [],
   "source": [
    "def grid_traveller(m, n):\n",
    "    if m == 0 or n == 0: return 0\n",
    "    \n",
    "    table = [[0 for _ in range(n)] for _ in range(m)]\n",
    "    table[0][0] = 1\n",
    "    \n",
    "    for i in range(m):\n",
    "        for j in range(n):\n",
    "            current = table[i][j]\n",
    "            if i + 1 < m: table[i + 1][j] += current\n",
    "            if j + 1 < n: table[i][j + 1] += current\n",
    "    \n",
    "    return table[m - 1][n - 1]"
   ]
  },
  {
   "cell_type": "code",
   "execution_count": 11,
   "id": "textile-roots",
   "metadata": {},
   "outputs": [
    {
     "name": "stdout",
     "output_type": "stream",
     "text": [
      "0\n",
      "1\n",
      "2\n",
      "3\n",
      "3\n",
      "40116600\n"
     ]
    }
   ],
   "source": [
    "run_tests()"
   ]
  },
  {
   "cell_type": "markdown",
   "id": "egyptian-vault",
   "metadata": {},
   "source": [
    "# 3) canSum\n",
    "Write a function `canSum(targetSum, numbers)` that takes in an number and a list of numbers.\n",
    "\n",
    "`canSum` should return true if the numbers in the list can be added so that they equal targetSum."
   ]
  },
  {
   "cell_type": "code",
   "execution_count": 12,
   "id": "european-genre",
   "metadata": {},
   "outputs": [],
   "source": [
    "def run_tests():\n",
    "    print(canSum(5, []))         # false\n",
    "    print(canSum(5, [1, 2]))     # true\n",
    "    print(canSum(7, [2, 3]))     # true\n",
    "    print(canSum(7, [2, 4]))     # false\n",
    "    print(canSum(300, [7, 14]))  # false"
   ]
  },
  {
   "cell_type": "code",
   "execution_count": 13,
   "id": "surprised-representation",
   "metadata": {},
   "outputs": [],
   "source": [
    "def canSum(targetSum, numbers):\n",
    "    if targetSum < 0: return False\n",
    "    if targetSum == 0: return True\n",
    "    \n",
    "    for n in numbers:\n",
    "        remainder = targetSum - n\n",
    "        if canSum(remainder, numbers):\n",
    "            return True\n",
    "        \n",
    "    return False"
   ]
  },
  {
   "cell_type": "code",
   "execution_count": 14,
   "id": "banned-alliance",
   "metadata": {},
   "outputs": [],
   "source": [
    "def canSum(targetSum, numbers, memo = None):\n",
    "    if memo == None: memo = {}  # sentinel value because python saves default parameters by reference on function creation\n",
    "    if targetSum in memo: return memo[targetSum]\n",
    "    \n",
    "    if targetSum < 0: return False\n",
    "    if targetSum == 0: return True\n",
    "    \n",
    "    for n in numbers:\n",
    "        remainder = targetSum - n\n",
    "        memo[remainder] = canSum(remainder, numbers, memo)\n",
    "        if memo[remainder]:\n",
    "            return True\n",
    "    \n",
    "    return False"
   ]
  },
  {
   "cell_type": "code",
   "execution_count": 15,
   "id": "catholic-standard",
   "metadata": {},
   "outputs": [],
   "source": [
    "def canSum(targetSum, numbers):\n",
    "    table = [False for _ in range(targetSum + 1)]\n",
    "    table[0] = True\n",
    "    \n",
    "    for i in range(targetSum + 1):\n",
    "        if table[i]:\n",
    "            for n in numbers:\n",
    "                 if i + n < len(table):\n",
    "                    table[i + n] = True\n",
    "    \n",
    "    return table[-1]"
   ]
  },
  {
   "cell_type": "code",
   "execution_count": 16,
   "id": "average-subject",
   "metadata": {},
   "outputs": [
    {
     "name": "stdout",
     "output_type": "stream",
     "text": [
      "False\n",
      "True\n",
      "True\n",
      "False\n",
      "False\n"
     ]
    }
   ],
   "source": [
    "run_tests()"
   ]
  },
  {
   "cell_type": "markdown",
   "id": "empirical-remedy",
   "metadata": {},
   "source": [
    "# 4) howSum\n",
    "Write a function `howSum(targetSum, numbers)` that takes in an number and a list of numbers.\n",
    "\n",
    "`howSum` should return any combination of values from the list of numbers that add up to targetSum.<br>\n",
    "If the given values cannot add up to targetSum, return `None`."
   ]
  },
  {
   "cell_type": "code",
   "execution_count": 17,
   "id": "stable-doubt",
   "metadata": {},
   "outputs": [],
   "source": [
    "def run_tests():                    # *actual results might differ*\n",
    "    print(howSum(5, []))            # None\n",
    "    print(howSum(5, [1, 3]))        # [1, 1, 1, 1, 1]\n",
    "    print(howSum(7, [5, 3, 4, 7]))  # [3, 4]\n",
    "    print(howSum(0, [1, 2, 3]))     # []\n",
    "    print(howSum(50, [20, 10, 3]))  # [20, 20, 10]\n",
    "    print(howSum(500, [7, 5, 3]))   # [5, 5, 5, ...]"
   ]
  },
  {
   "cell_type": "code",
   "execution_count": 18,
   "id": "facial-steps",
   "metadata": {},
   "outputs": [],
   "source": [
    "def howSum(targetSum, numbers):\n",
    "    if targetSum == 0: return []\n",
    "    if targetSum < 0: return None\n",
    "    \n",
    "    for n in numbers:\n",
    "        remainder = targetSum - n\n",
    "        how = howSum(remainder, numbers)\n",
    "        if how is not None:\n",
    "            return how + [n]\n",
    "        \n",
    "    return None"
   ]
  },
  {
   "cell_type": "code",
   "execution_count": 19,
   "id": "proud-likelihood",
   "metadata": {},
   "outputs": [],
   "source": [
    "def howSum(targetSum, numbers, memo = None):\n",
    "    if memo is None: memo = {}\n",
    "    if targetSum in memo: return memo[targetSum]\n",
    "       \n",
    "    if targetSum == 0: return []\n",
    "    if targetSum < 0: return None\n",
    "    \n",
    "    for n in numbers:\n",
    "        remainder = targetSum - n\n",
    "        memo[remainder] = howSum(remainder, numbers, memo)\n",
    "        if memo[remainder] is not None:\n",
    "            return memo[remainder] + [n]\n",
    "        \n",
    "    return None"
   ]
  },
  {
   "cell_type": "code",
   "execution_count": 20,
   "id": "recovered-server",
   "metadata": {},
   "outputs": [],
   "source": [
    "def howSum(targetSum, numbers):\n",
    "    table = [None for _ in range(targetSum + 1)]\n",
    "    table[0] = []\n",
    "    \n",
    "    for i in range(targetSum + 1):\n",
    "        if table[i] is not None:\n",
    "            for n in numbers:\n",
    "                if i + n < len(table):\n",
    "                    table[i + n] = table[i] + [n]\n",
    "    \n",
    "    return table[-1]"
   ]
  },
  {
   "cell_type": "code",
   "execution_count": 21,
   "id": "proud-butler",
   "metadata": {},
   "outputs": [
    {
     "name": "stdout",
     "output_type": "stream",
     "text": [
      "None\n",
      "[1, 1, 1, 1, 1]\n",
      "[4, 3]\n",
      "[]\n",
      "[10, 10, 3, 3, 3, 3, 3, 3, 3, 3, 3, 3]\n",
      "[5, 3, 3, 3, 3, 3, 3, 3, 3, 3, 3, 3, 3, 3, 3, 3, 3, 3, 3, 3, 3, 3, 3, 3, 3, 3, 3, 3, 3, 3, 3, 3, 3, 3, 3, 3, 3, 3, 3, 3, 3, 3, 3, 3, 3, 3, 3, 3, 3, 3, 3, 3, 3, 3, 3, 3, 3, 3, 3, 3, 3, 3, 3, 3, 3, 3, 3, 3, 3, 3, 3, 3, 3, 3, 3, 3, 3, 3, 3, 3, 3, 3, 3, 3, 3, 3, 3, 3, 3, 3, 3, 3, 3, 3, 3, 3, 3, 3, 3, 3, 3, 3, 3, 3, 3, 3, 3, 3, 3, 3, 3, 3, 3, 3, 3, 3, 3, 3, 3, 3, 3, 3, 3, 3, 3, 3, 3, 3, 3, 3, 3, 3, 3, 3, 3, 3, 3, 3, 3, 3, 3, 3, 3, 3, 3, 3, 3, 3, 3, 3, 3, 3, 3, 3, 3, 3, 3, 3, 3, 3, 3, 3, 3, 3, 3, 3]\n"
     ]
    }
   ],
   "source": [
    "run_tests()"
   ]
  },
  {
   "cell_type": "markdown",
   "id": "vertical-robin",
   "metadata": {},
   "source": [
    "# 5) bestSum\n",
    "Write a function `bestSum(targetSum, numbers)` that takes in an number and a list of numbers.\n",
    "\n",
    "`bestSum` should return a list containing the shortest list of numbers that add up exactly to targetSum.<br />\n",
    "If there is more than one solution, return any of them."
   ]
  },
  {
   "cell_type": "code",
   "execution_count": 22,
   "id": "material-match",
   "metadata": {},
   "outputs": [],
   "source": [
    "def run_tests():\n",
    "    print(bestSum(5, []))            # None\n",
    "    print(bestSum(5, [1, 3]))        # [1, 1, 3]\n",
    "    print(bestSum(7, [5, 3, 4, 7]))  # [7]\n",
    "    print(bestSum(0, [1, 2, 3]))     # []\n",
    "    print(bestSum(50, [20, 10, 3]))  # [20, 20, 10]\n",
    "    print(bestSum(500, [7, 5, 3]))   # [3, 7, 7, 7, 7, ...]"
   ]
  },
  {
   "cell_type": "code",
   "execution_count": 23,
   "id": "hispanic-coordinate",
   "metadata": {},
   "outputs": [],
   "source": [
    "def bestSum(targetSum, numbers):\n",
    "    if len(numbers) == 0: return None\n",
    "    if targetSum == 0: return []\n",
    "    if targetSum < 0: return None\n",
    "    \n",
    "    shortestCombination = None\n",
    "    \n",
    "    for n in numbers:\n",
    "        remainder = targetSum - n\n",
    "        result = bestSum(remainder, numbers)\n",
    "        \n",
    "        if result != None:\n",
    "            combination = result + [n]\n",
    "\n",
    "            if shortestCombination == None or len(combination) < len(shortestCombination):\n",
    "                shortestCombination = combination\n",
    "    \n",
    "    return shortestCombination"
   ]
  },
  {
   "cell_type": "code",
   "execution_count": 24,
   "id": "suitable-hammer",
   "metadata": {},
   "outputs": [],
   "source": [
    "def bestSum(targetSum, numbers, memo = None):\n",
    "    if memo is None: memo = {}\n",
    "    if targetSum in memo: return memo[targetSum]\n",
    "    \n",
    "    if len(numbers) == 0: return None\n",
    "    if targetSum == 0: return []\n",
    "    if targetSum < 0: return None\n",
    "    \n",
    "    shortestCombination = None\n",
    "    \n",
    "    for n in numbers:\n",
    "        remainder = targetSum - n\n",
    "        memo[remainder] = bestSum(remainder, numbers, memo)\n",
    "        \n",
    "        if memo[remainder] != None:\n",
    "            combination = memo[remainder] + [n]\n",
    "\n",
    "            if shortestCombination == None or len(combination) < len(shortestCombination):\n",
    "                shortestCombination = combination\n",
    "    \n",
    "    return shortestCombination"
   ]
  },
  {
   "cell_type": "code",
   "execution_count": 25,
   "id": "outdoor-owner",
   "metadata": {},
   "outputs": [],
   "source": [
    "def bestSum(targetSum, numbers):\n",
    "    table = [None for _ in range(targetSum + 1)]\n",
    "    table[0] = []\n",
    "    \n",
    "    for i in range(targetSum + 1):\n",
    "        if table[i] is not None:\n",
    "            for n in numbers:\n",
    "                if i + n < len(table):\n",
    "                    combination = table[i] + [n]\n",
    "                    if table[i + n] is None or len(combination) < len(table[i + n]):\n",
    "                        table[i + n] = combination\n",
    "    return table[-1]"
   ]
  },
  {
   "cell_type": "code",
   "execution_count": 26,
   "id": "southern-request",
   "metadata": {},
   "outputs": [
    {
     "name": "stdout",
     "output_type": "stream",
     "text": [
      "None\n",
      "[1, 1, 3]\n",
      "[7]\n",
      "[]\n",
      "[10, 20, 20]\n",
      "[3, 7, 7, 7, 7, 7, 7, 7, 7, 7, 7, 7, 7, 7, 7, 7, 7, 7, 7, 7, 7, 7, 7, 7, 7, 7, 7, 7, 7, 7, 7, 7, 7, 7, 7, 7, 7, 7, 7, 7, 7, 7, 7, 7, 7, 7, 7, 7, 7, 7, 7, 7, 7, 7, 7, 7, 7, 7, 7, 7, 7, 7, 7, 7, 7, 7, 7, 7, 7, 7, 7, 7]\n"
     ]
    }
   ],
   "source": [
    "run_tests()"
   ]
  },
  {
   "cell_type": "markdown",
   "id": "fallen-physiology",
   "metadata": {},
   "source": [
    "# 6) canConstruct\n",
    "\n",
    "Write a function `canConstruct(word, fragments)` that takes in an string and a list of strings.\n",
    "\n",
    "`canConstruct` should return a boolean indicating whether the string `word` can be constructed by concatenating strings of `fragments`."
   ]
  },
  {
   "cell_type": "code",
   "execution_count": 27,
   "id": "suitable-multiple",
   "metadata": {},
   "outputs": [],
   "source": [
    "def run_tests():\n",
    "    print(canConstruct(\"\", []))                               # True\n",
    "    print(canConstruct(\"bla\", [\"b\", \"l\", \"a\"]))               # True\n",
    "    print(canConstruct(\"bla\", [\"b\", \"l\", \"u\"]))               # False\n",
    "    print(canConstruct(\"horse\", [\"ho\", \"ors\", \"e\"]))          # False\n",
    "    print(canConstruct(\"books\", [\"b\", \"ors\", \"o\", \"ks\"]))     # True\n",
    "    print(canConstruct(\"supercalifragilisticexpialidocious\",  # True\n",
    "        [ \"aon\", \"btc\", \"er\", \"cali\", \"f\", \"r\", \"agi\", \"lis\", \"tic\", \"su\", \"p\", \"expi\", \"ali\", \"doci\", \"ous\"]))   "
   ]
  },
  {
   "cell_type": "code",
   "execution_count": 28,
   "id": "specified-petersburg",
   "metadata": {},
   "outputs": [],
   "source": [
    "def canConstruct(word, fragments):\n",
    "    if word == '': return True\n",
    "    \n",
    "    for f in fragments:\n",
    "        if word.startswith(f):\n",
    "            if canConstruct(word[len(f):], fragments):\n",
    "                return True\n",
    "    \n",
    "    return False"
   ]
  },
  {
   "cell_type": "code",
   "execution_count": 29,
   "id": "naughty-interval",
   "metadata": {},
   "outputs": [],
   "source": [
    "def canConstruct(word, fragments, memo = None):\n",
    "    if memo == None: memo = {}\n",
    "    if word in memo: return memo[word]\n",
    "    \n",
    "    if word == '': return True\n",
    "    \n",
    "    for f in fragments:\n",
    "        if word.startswith(f):\n",
    "            rest = word[len(f):]\n",
    "            memo[rest] = canConstruct(rest, fragments, memo)\n",
    "            if memo[rest]:\n",
    "                return True\n",
    "        \n",
    "    return False"
   ]
  },
  {
   "cell_type": "code",
   "execution_count": 30,
   "id": "drawn-fitness",
   "metadata": {},
   "outputs": [],
   "source": [
    "def canConstruct(word, fragments):\n",
    "    table = [False for _ in range(len(word) + 1)]\n",
    "    table[0] = True\n",
    "    \n",
    "    for i in range(len(word) + 1):\n",
    "        if table[i]:\n",
    "            for f in fragments:\n",
    "                if word[i:i + len(f)] == f:\n",
    "                    table[i + len(f)] = True\n",
    "    \n",
    "    return table[-1]"
   ]
  },
  {
   "cell_type": "code",
   "execution_count": 31,
   "id": "solar-confusion",
   "metadata": {},
   "outputs": [
    {
     "name": "stdout",
     "output_type": "stream",
     "text": [
      "True\n",
      "True\n",
      "False\n",
      "False\n",
      "True\n",
      "True\n"
     ]
    }
   ],
   "source": [
    "run_tests()"
   ]
  },
  {
   "cell_type": "markdown",
   "id": "raised-performance",
   "metadata": {},
   "source": [
    "# 7) countConstruct\n",
    "\n",
    "Write a function `countConstruct(word, fragments)` that takes in an string and a list of strings.\n",
    "\n",
    "`countConstruct` should return a number indicating how many ways the string `word` can be constructed by concatenating strings of `fragments`."
   ]
  },
  {
   "cell_type": "code",
   "execution_count": 32,
   "id": "nervous-mouse",
   "metadata": {},
   "outputs": [],
   "source": [
    "def run_tests():\n",
    "    print(countConstruct(\"abcde\", [\"a\", \"b\", \"c\", \"d\"]))             # 0\n",
    "    print(countConstruct(\"\", [\"a\", \"b\", \"c\", \"d\"]))                  # 1\n",
    "    print(countConstruct(\"abcde\", [\"a\", \"b\", \"c\", \"d\", \"e\", \"bc\"]))  # 2\n",
    "    print(countConstruct(\"wordcloud\", [\"word\", \"cloud\", \"wor\", \"dc\", \"d\", \"loud\"]))  # 3"
   ]
  },
  {
   "cell_type": "code",
   "execution_count": 33,
   "id": "pacific-arena",
   "metadata": {},
   "outputs": [],
   "source": [
    "def countConstruct(word, fragments):\n",
    "    if word == '': return 1\n",
    "    \n",
    "    count = 0\n",
    "    \n",
    "    for f in fragments:\n",
    "        if word.startswith(f):\n",
    "            count += countConstruct(word[len(f):], fragments)\n",
    "    \n",
    "    return count"
   ]
  },
  {
   "cell_type": "code",
   "execution_count": 34,
   "id": "british-prime",
   "metadata": {},
   "outputs": [],
   "source": [
    "def countConstruct(word, fragments, memo = None):\n",
    "    if memo == None: memo = {}\n",
    "    if word in memo: return memo[word]\n",
    "    \n",
    "    if word == '': return 1\n",
    "    \n",
    "    count = 0\n",
    "    \n",
    "    for f in fragments:\n",
    "        if word.startswith(f):\n",
    "            memo[word] = countConstruct(word[len(f):], fragments, memo)\n",
    "            count += memo[word]\n",
    "    \n",
    "    return count"
   ]
  },
  {
   "cell_type": "code",
   "execution_count": 35,
   "id": "increasing-template",
   "metadata": {},
   "outputs": [],
   "source": [
    "def countConstruct(word, fragments):\n",
    "    table = [0 for _ in range(len(word) + 1)]\n",
    "    table[0] = 1\n",
    "    \n",
    "    for i in range(len(word) + 1):\n",
    "        if table[i]:\n",
    "            for f in fragments:\n",
    "                if word[i:i + len(f)] == f:\n",
    "                    table[i + len(f)] += table[i]\n",
    "    \n",
    "    return table[-1]"
   ]
  },
  {
   "cell_type": "code",
   "execution_count": 36,
   "id": "cutting-player",
   "metadata": {},
   "outputs": [
    {
     "name": "stdout",
     "output_type": "stream",
     "text": [
      "0\n",
      "1\n",
      "2\n",
      "3\n"
     ]
    }
   ],
   "source": [
    "run_tests()"
   ]
  },
  {
   "cell_type": "markdown",
   "id": "occupied-injection",
   "metadata": {},
   "source": [
    "# 8) allConstruct\n",
    "\n",
    "Write a function `allConstruct(word, fragments)` that takes in an string and a list of strings.\n",
    "\n",
    "`allConstruct` should return a two dimensional list of strings containing all the ways the string `word` can be constructed by concatenating strings of `fragments`."
   ]
  },
  {
   "cell_type": "code",
   "execution_count": 37,
   "id": "painful-nowhere",
   "metadata": {},
   "outputs": [],
   "source": [
    "def run_tests():\n",
    "    print(allConstruct(\"abcde\", [\"a\", \"b\", \"c\", \"d\"]))             # []\n",
    "    print(allConstruct(\"\", [\"a\", \"b\", \"c\", \"d\"]))                  # [[]]\n",
    "    print(allConstruct(\"abcde\", [\"a\", \"b\", \"c\", \"d\", \"e\", \"bc\"]))  # [[\"a\", \"b\", \"c\", \"d\", \"e\"], [\"a\", \"bc\", \"d\", \"e\"]]\n",
    "    print(allConstruct(\"wordcloud\", [\"word\", \"cloud\", \"wor\", \"dc\", \"d\", \"loud\"]))  \n",
    "    # [[\"word\", \"cloud\"], [\"wor\", \"dc\", \"loud\"], [\"wor\", \"d\", \"cloud\"]]"
   ]
  },
  {
   "cell_type": "code",
   "execution_count": 38,
   "id": "supported-sociology",
   "metadata": {},
   "outputs": [],
   "source": [
    "def allConstruct(word, fragments):\n",
    "    if word == '': return [[]]\n",
    "    \n",
    "    result = []\n",
    "    \n",
    "    for f in fragments:\n",
    "        if word.startswith(f):\n",
    "            rest = word[len(f):]\n",
    "            restWays = allConstruct(rest, fragments)\n",
    "            wordWays = [[f, *way] for way in restWays]\n",
    "            result = result + wordWays\n",
    "    \n",
    "    return result"
   ]
  },
  {
   "cell_type": "code",
   "execution_count": 39,
   "id": "oriented-resource",
   "metadata": {},
   "outputs": [],
   "source": [
    "def allConstruct(word, fragments, memo = None):\n",
    "    if memo == None: memo = {}\n",
    "    if word in memo: return memo[word]\n",
    "    \n",
    "    if word == '': return [[]]\n",
    "    \n",
    "    result = []\n",
    "    \n",
    "    for f in fragments:\n",
    "        if word.startswith(f):\n",
    "            rest = word[len(f):]\n",
    "            restWays = allConstruct(rest, fragments, memo)\n",
    "            memo[word] = [[f, *way] for way in restWays]\n",
    "            result = result + memo[word]\n",
    "    \n",
    "    return result"
   ]
  },
  {
   "cell_type": "code",
   "execution_count": 40,
   "id": "cardiac-aquarium",
   "metadata": {},
   "outputs": [],
   "source": [
    "def allConstruct(word, fragments):\n",
    "    table = [[] for _ in range(len(word) + 1)]\n",
    "    table[0] = [[]]\n",
    "    \n",
    "    for i in range(len(word) + 1):\n",
    "        if table[i]:\n",
    "            for f in fragments:\n",
    "                if word[i:i + len(f)] == f:\n",
    "                    newCombinations = [acc + [f] for acc in table[i]]\n",
    "                    table[i + len(f)] += newCombinations\n",
    "    \n",
    "    return table[-1]"
   ]
  },
  {
   "cell_type": "code",
   "execution_count": 41,
   "id": "micro-spiritual",
   "metadata": {},
   "outputs": [
    {
     "name": "stdout",
     "output_type": "stream",
     "text": [
      "[]\n",
      "[[]]\n",
      "[['a', 'bc', 'd', 'e'], ['a', 'b', 'c', 'd', 'e']]\n",
      "[['word', 'cloud'], ['wor', 'd', 'cloud'], ['wor', 'dc', 'loud']]\n"
     ]
    }
   ],
   "source": [
    "run_tests()"
   ]
  }
 ],
 "metadata": {
  "kernelspec": {
   "display_name": "Python 3",
   "language": "python",
   "name": "python3"
  },
  "language_info": {
   "codemirror_mode": {
    "name": "ipython",
    "version": 3
   },
   "file_extension": ".py",
   "mimetype": "text/x-python",
   "name": "python",
   "nbconvert_exporter": "python",
   "pygments_lexer": "ipython3",
   "version": "3.9.0"
  }
 },
 "nbformat": 4,
 "nbformat_minor": 5
}
